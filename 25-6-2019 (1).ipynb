{
 "cells": [
  {
   "cell_type": "code",
   "execution_count": 1,
   "metadata": {},
   "outputs": [
    {
     "name": "stdout",
     "output_type": "stream",
     "text": [
      "element not found\n"
     ]
    }
   ],
   "source": [
    "def binarysearch(a,iindex,rindex,taritem):\n",
    "    while iindex<=rindex:\n",
    "        mindex=iindex+(rindex-iindex)//2;\n",
    "        if(a[mindex]==taritem):\n",
    "           return mindex\n",
    "        elif(a[mindex]>taritem):\n",
    "            rindex=mindex-1\n",
    "        else:\n",
    "            iindex=mindex+1\n",
    "    return -1\n",
    "list1=[1,4,9,15,25,45,57,88,98]    \n",
    "res=binarysearch(list1,0,8,818)\n",
    "if(res!=-1):\n",
    "   print(\"item is found\")\n",
    "else:\n",
    "   print(\"element not found\")\n"
   ]
  },
  {
   "cell_type": "code",
   "execution_count": 4,
   "metadata": {},
   "outputs": [
    {
     "name": "stdout",
     "output_type": "stream",
     "text": [
      "enter thr number50\n",
      "2\n"
     ]
    }
   ],
   "source": [
    "n=int(input(\"enter thr number\"))\n",
    "cnt=0;\n",
    "while(n!=0):\n",
    "    cnt=cnt+1;\n",
    "    n=n//10;\n",
    "print(cnt)"
   ]
  },
  {
   "cell_type": "code",
   "execution_count": 6,
   "metadata": {},
   "outputs": [
    {
     "name": "stdout",
     "output_type": "stream",
     "text": [
      "8\n"
     ]
    }
   ],
   "source": [
    "def countLowercase(str):\n",
    "    cnt=0;\n",
    "    lst=list(str)\n",
    "    for x in range(len(lst)):\n",
    "        if ord(lst[x])>=97 and ord(lst[x])<=122 :\n",
    "            cnt=cnt+1;\n",
    "    return cnt;\n",
    "\n",
    "print(countLowercase(\"harshith\"))\n"
   ]
  },
  {
   "cell_type": "code",
   "execution_count": 1,
   "metadata": {},
   "outputs": [
    {
     "data": {
      "text/plain": [
       "3"
      ]
     },
     "execution_count": 1,
     "metadata": {},
     "output_type": "execute_result"
    }
   ],
   "source": [
    "def count(str):\n",
    "    list1=list(str)\n",
    "    return len(str)\n",
    "count(\"App\")"
   ]
  },
  {
   "cell_type": "code",
   "execution_count": 2,
   "metadata": {},
   "outputs": [
    {
     "name": "stdout",
     "output_type": "stream",
     "text": [
      "0\n",
      "0\n"
     ]
    }
   ],
   "source": [
    "def sumOnlyEvenDigits(str):\n",
    "    sum=0\n",
    "    lst=list(str)\n",
    "    for x in range(len(lst)):\n",
    "      if ord(lst[x]) >= 48 and ord(lst[x]) <=57:\n",
    "          ac=ord(lst[x]) - 48\n",
    "          if(ac%2==0):\n",
    "               sum=sum+ac\n",
    "    return sum\n",
    "            \n",
    "print(sumOnlyEvenDigits(\"Unknown\"))\n",
    "print(sumOnlyEvenDigits(\"Jewsdwdelkfelf\"))"
   ]
  },
  {
   "cell_type": "code",
   "execution_count": null,
   "metadata": {},
   "outputs": [],
   "source": []
  }
 ],
 "metadata": {
  "kernelspec": {
   "display_name": "Python 3",
   "language": "python",
   "name": "python3"
  },
  "language_info": {
   "codemirror_mode": {
    "name": "ipython",
    "version": 3
   },
   "file_extension": ".py",
   "mimetype": "text/x-python",
   "name": "python",
   "nbconvert_exporter": "python",
   "pygments_lexer": "ipython3",
   "version": "3.7.3"
  }
 },
 "nbformat": 4,
 "nbformat_minor": 2
}
